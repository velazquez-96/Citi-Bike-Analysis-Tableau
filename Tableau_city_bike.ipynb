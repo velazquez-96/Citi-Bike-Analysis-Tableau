{
 "cells": [
  {
   "cell_type": "code",
   "execution_count": 1,
   "metadata": {},
   "outputs": [],
   "source": [
    "import pandas as pd"
   ]
  },
  {
   "cell_type": "markdown",
   "metadata": {},
   "source": [
    "### Citi Bike Trip Histories"
   ]
  },
  {
   "cell_type": "code",
   "execution_count": 2,
   "metadata": {},
   "outputs": [],
   "source": [
    "data_2018_1 = pd.read_csv(\"Resources/JC-201801-citibike-tripdata.csv\")\n",
    "data_2018_2 = pd.read_csv(\"Resources/JC-201802-citibike-tripdata.csv\")\n",
    "data_2018_3 = pd.read_csv(\"Resources/JC-201803-citibike-tripdata.csv\")\n",
    "data_2018_4 = pd.read_csv(\"Resources/JC-201804-citibike-tripdata.csv\")\n",
    "data_2018_5 = pd.read_csv(\"Resources/JC-201805-citibike-tripdata.csv\")\n",
    "data_2018_6 = pd.read_csv(\"Resources/JC-201806-citibike-tripdata.csv\")\n",
    "data_2018_7 = pd.read_csv(\"Resources/JC-201807-citibike-tripdata.csv\")\n",
    "data_2018_8 = pd.read_csv(\"Resources/JC-201808-citibike-tripdata.csv\")\n",
    "data_2018_9 = pd.read_csv(\"Resources/JC-201809-citibike-tripdata.csv\")\n",
    "data_2018_10 = pd.read_csv(\"Resources/JC-201810-citibike-tripdata.csv\")\n",
    "data_2018_11 = pd.read_csv(\"Resources/JC-201811-citibike-tripdata.csv\")\n",
    "data_2018_12 = pd.read_csv(\"Resources/JC-201812-citibike-tripdata.csv\")"
   ]
  },
  {
   "cell_type": "code",
   "execution_count": 14,
   "metadata": {},
   "outputs": [
    {
     "data": {
      "text/html": [
       "<div>\n",
       "<style scoped>\n",
       "    .dataframe tbody tr th:only-of-type {\n",
       "        vertical-align: middle;\n",
       "    }\n",
       "\n",
       "    .dataframe tbody tr th {\n",
       "        vertical-align: top;\n",
       "    }\n",
       "\n",
       "    .dataframe thead th {\n",
       "        text-align: right;\n",
       "    }\n",
       "</style>\n",
       "<table border=\"1\" class=\"dataframe\">\n",
       "  <thead>\n",
       "    <tr style=\"text-align: right;\">\n",
       "      <th></th>\n",
       "      <th>tripduration</th>\n",
       "      <th>starttime</th>\n",
       "      <th>stoptime</th>\n",
       "      <th>start station id</th>\n",
       "      <th>start station name</th>\n",
       "      <th>start station latitude</th>\n",
       "      <th>start station longitude</th>\n",
       "      <th>end station id</th>\n",
       "      <th>end station name</th>\n",
       "      <th>end station latitude</th>\n",
       "      <th>end station longitude</th>\n",
       "      <th>bikeid</th>\n",
       "      <th>usertype</th>\n",
       "      <th>birth year</th>\n",
       "      <th>gender</th>\n",
       "    </tr>\n",
       "  </thead>\n",
       "  <tbody>\n",
       "    <tr>\n",
       "      <th>0</th>\n",
       "      <td>932</td>\n",
       "      <td>2018-01-01 02:06:17.5410</td>\n",
       "      <td>2018-01-01 02:21:50.0270</td>\n",
       "      <td>3183</td>\n",
       "      <td>Exchange Place</td>\n",
       "      <td>40.716247</td>\n",
       "      <td>-74.033459</td>\n",
       "      <td>3199</td>\n",
       "      <td>Newport Pkwy</td>\n",
       "      <td>40.728745</td>\n",
       "      <td>-74.032108</td>\n",
       "      <td>31929</td>\n",
       "      <td>Subscriber</td>\n",
       "      <td>1992</td>\n",
       "      <td>1</td>\n",
       "    </tr>\n",
       "    <tr>\n",
       "      <th>1</th>\n",
       "      <td>550</td>\n",
       "      <td>2018-01-01 12:06:18.0390</td>\n",
       "      <td>2018-01-01 12:15:28.4430</td>\n",
       "      <td>3183</td>\n",
       "      <td>Exchange Place</td>\n",
       "      <td>40.716247</td>\n",
       "      <td>-74.033459</td>\n",
       "      <td>3199</td>\n",
       "      <td>Newport Pkwy</td>\n",
       "      <td>40.728745</td>\n",
       "      <td>-74.032108</td>\n",
       "      <td>31845</td>\n",
       "      <td>Subscriber</td>\n",
       "      <td>1969</td>\n",
       "      <td>2</td>\n",
       "    </tr>\n",
       "    <tr>\n",
       "      <th>2</th>\n",
       "      <td>510</td>\n",
       "      <td>2018-01-01 12:06:56.9780</td>\n",
       "      <td>2018-01-01 12:15:27.8100</td>\n",
       "      <td>3183</td>\n",
       "      <td>Exchange Place</td>\n",
       "      <td>40.716247</td>\n",
       "      <td>-74.033459</td>\n",
       "      <td>3199</td>\n",
       "      <td>Newport Pkwy</td>\n",
       "      <td>40.728745</td>\n",
       "      <td>-74.032108</td>\n",
       "      <td>31708</td>\n",
       "      <td>Subscriber</td>\n",
       "      <td>1946</td>\n",
       "      <td>1</td>\n",
       "    </tr>\n",
       "    <tr>\n",
       "      <th>3</th>\n",
       "      <td>354</td>\n",
       "      <td>2018-01-01 14:53:10.1860</td>\n",
       "      <td>2018-01-01 14:59:05.0960</td>\n",
       "      <td>3183</td>\n",
       "      <td>Exchange Place</td>\n",
       "      <td>40.716247</td>\n",
       "      <td>-74.033459</td>\n",
       "      <td>3267</td>\n",
       "      <td>Morris Canal</td>\n",
       "      <td>40.712419</td>\n",
       "      <td>-74.038526</td>\n",
       "      <td>31697</td>\n",
       "      <td>Subscriber</td>\n",
       "      <td>1994</td>\n",
       "      <td>1</td>\n",
       "    </tr>\n",
       "    <tr>\n",
       "      <th>4</th>\n",
       "      <td>250</td>\n",
       "      <td>2018-01-01 17:34:30.1920</td>\n",
       "      <td>2018-01-01 17:38:40.9840</td>\n",
       "      <td>3183</td>\n",
       "      <td>Exchange Place</td>\n",
       "      <td>40.716247</td>\n",
       "      <td>-74.033459</td>\n",
       "      <td>3639</td>\n",
       "      <td>Harborside</td>\n",
       "      <td>40.719252</td>\n",
       "      <td>-74.034234</td>\n",
       "      <td>31861</td>\n",
       "      <td>Subscriber</td>\n",
       "      <td>1991</td>\n",
       "      <td>1</td>\n",
       "    </tr>\n",
       "  </tbody>\n",
       "</table>\n",
       "</div>"
      ],
      "text/plain": [
       "   tripduration                 starttime                  stoptime  \\\n",
       "0           932  2018-01-01 02:06:17.5410  2018-01-01 02:21:50.0270   \n",
       "1           550  2018-01-01 12:06:18.0390  2018-01-01 12:15:28.4430   \n",
       "2           510  2018-01-01 12:06:56.9780  2018-01-01 12:15:27.8100   \n",
       "3           354  2018-01-01 14:53:10.1860  2018-01-01 14:59:05.0960   \n",
       "4           250  2018-01-01 17:34:30.1920  2018-01-01 17:38:40.9840   \n",
       "\n",
       "   start station id start station name  start station latitude  \\\n",
       "0              3183     Exchange Place               40.716247   \n",
       "1              3183     Exchange Place               40.716247   \n",
       "2              3183     Exchange Place               40.716247   \n",
       "3              3183     Exchange Place               40.716247   \n",
       "4              3183     Exchange Place               40.716247   \n",
       "\n",
       "   start station longitude  end station id end station name  \\\n",
       "0               -74.033459            3199     Newport Pkwy   \n",
       "1               -74.033459            3199     Newport Pkwy   \n",
       "2               -74.033459            3199     Newport Pkwy   \n",
       "3               -74.033459            3267     Morris Canal   \n",
       "4               -74.033459            3639       Harborside   \n",
       "\n",
       "   end station latitude  end station longitude  bikeid    usertype  \\\n",
       "0             40.728745             -74.032108   31929  Subscriber   \n",
       "1             40.728745             -74.032108   31845  Subscriber   \n",
       "2             40.728745             -74.032108   31708  Subscriber   \n",
       "3             40.712419             -74.038526   31697  Subscriber   \n",
       "4             40.719252             -74.034234   31861  Subscriber   \n",
       "\n",
       "   birth year  gender  \n",
       "0        1992       1  \n",
       "1        1969       2  \n",
       "2        1946       1  \n",
       "3        1994       1  \n",
       "4        1991       1  "
      ]
     },
     "execution_count": 14,
     "metadata": {},
     "output_type": "execute_result"
    }
   ],
   "source": [
    "data_2018_1.head()"
   ]
  },
  {
   "cell_type": "code",
   "execution_count": 3,
   "metadata": {
    "scrolled": true
   },
   "outputs": [
    {
     "data": {
      "text/plain": [
       "tripduration               12677\n",
       "starttime                  12677\n",
       "stoptime                   12677\n",
       "start station id           12677\n",
       "start station name         12677\n",
       "start station latitude     12677\n",
       "start station longitude    12677\n",
       "end station id             12677\n",
       "end station name           12677\n",
       "end station latitude       12677\n",
       "end station longitude      12677\n",
       "bikeid                     12677\n",
       "usertype                   12677\n",
       "birth year                 12677\n",
       "gender                     12677\n",
       "dtype: int64"
      ]
     },
     "execution_count": 3,
     "metadata": {},
     "output_type": "execute_result"
    }
   ],
   "source": [
    "data_2018_1.count()"
   ]
  },
  {
   "cell_type": "code",
   "execution_count": 4,
   "metadata": {},
   "outputs": [
    {
     "name": "stdout",
     "output_type": "stream",
     "text": [
      "<class 'pandas.core.frame.DataFrame'>\n",
      "RangeIndex: 12677 entries, 0 to 12676\n",
      "Data columns (total 15 columns):\n",
      " #   Column                   Non-Null Count  Dtype  \n",
      "---  ------                   --------------  -----  \n",
      " 0   tripduration             12677 non-null  int64  \n",
      " 1   starttime                12677 non-null  object \n",
      " 2   stoptime                 12677 non-null  object \n",
      " 3   start station id         12677 non-null  int64  \n",
      " 4   start station name       12677 non-null  object \n",
      " 5   start station latitude   12677 non-null  float64\n",
      " 6   start station longitude  12677 non-null  float64\n",
      " 7   end station id           12677 non-null  int64  \n",
      " 8   end station name         12677 non-null  object \n",
      " 9   end station latitude     12677 non-null  float64\n",
      " 10  end station longitude    12677 non-null  float64\n",
      " 11  bikeid                   12677 non-null  int64  \n",
      " 12  usertype                 12677 non-null  object \n",
      " 13  birth year               12677 non-null  int64  \n",
      " 14  gender                   12677 non-null  int64  \n",
      "dtypes: float64(4), int64(6), object(5)\n",
      "memory usage: 1.5+ MB\n"
     ]
    }
   ],
   "source": [
    "data_2018_1.info()"
   ]
  },
  {
   "cell_type": "code",
   "execution_count": 28,
   "metadata": {},
   "outputs": [],
   "source": [
    "final_df_td_2018 = pd.concat([data_2018_1,data_2018_2,data_2018_3,data_2018_4,data_2018_5,data_2018_6, data_2018_7, data_2018_8, data_2018_9, data_2018_10, data_2018_11, data_2018_12 ])"
   ]
  },
  {
   "cell_type": "code",
   "execution_count": 29,
   "metadata": {},
   "outputs": [
    {
     "data": {
      "text/plain": [
       "(353892, 15)"
      ]
     },
     "execution_count": 29,
     "metadata": {},
     "output_type": "execute_result"
    }
   ],
   "source": [
    "final_df_td_2018.shape"
   ]
  },
  {
   "cell_type": "code",
   "execution_count": 7,
   "metadata": {},
   "outputs": [],
   "source": [
    "final_df_td.to_csv(\"trip_histories.csv\")"
   ]
  },
  {
   "cell_type": "code",
   "execution_count": null,
   "metadata": {},
   "outputs": [],
   "source": []
  },
  {
   "cell_type": "code",
   "execution_count": null,
   "metadata": {},
   "outputs": [],
   "source": [
    "data_2017_1 = pd.read_csv(\"../JC-201701-citibike-tripdata.csv\")\n",
    "data_2017_2 = pd.read_csv(\"../JC-201702-citibike-tripdata.csv\")\n",
    "data_2017_3 = pd.read_csv(\"../JC-201703-citibike-tripdata.csv\")\n",
    "data_2017_4 = pd.read_csv(\"../JC-201704-citibike-tripdata.csv\")\n",
    "data_2017_5 = pd.read_csv(\"../JC-201705-citibike-tripdata.csv\")\n",
    "data_2017_6 = pd.read_csv(\"../JC-201706-citibike-tripdata.csv\")\n",
    "data_2017_7 = pd.read_csv(\"../JC-201707-citibike-tripdata.csv\")\n",
    "data_2017_8 = pd.read_csv(\"../JC-201708 citibike-tripdata.csv\")\n",
    "data_2017_9 = pd.read_csv(\"../JC-201709-citibike-tripdata.csv\")\n",
    "data_2017_10 = pd.read_csv(\"../JC-201710-citibike-tripdata.csv\")\n",
    "data_2017_11 = pd.read_csv(\"../JC-201711-citibike-tripdata.csv\")\n",
    "data_2017_12 = pd.read_csv(\"../JC-201712-citibike-tripdata.csv\")"
   ]
  },
  {
   "cell_type": "code",
   "execution_count": 41,
   "metadata": {},
   "outputs": [
    {
     "data": {
      "text/plain": [
       "Index(['Trip Duration', 'Start Time', 'Stop Time', 'Start Station ID',\n",
       "       'Start Station Name', 'Start Station Latitude',\n",
       "       'Start Station Longitude', 'End Station ID', 'End Station Name',\n",
       "       'End Station Latitude', 'End Station Longitude', 'Bike ID', 'User Type',\n",
       "       'Birth Year', 'Gender'],\n",
       "      dtype='object')"
      ]
     },
     "execution_count": 41,
     "metadata": {},
     "output_type": "execute_result"
    }
   ],
   "source": [
    "data_2017_3.columns"
   ]
  },
  {
   "cell_type": "code",
   "execution_count": 5,
   "metadata": {},
   "outputs": [],
   "source": [
    "final_df_td_2017 = pd.concat([data_2017_1,data_2017_2,data_2017_3,data_2017_4,data_2017_5,data_2017_6, data_2017_7, data_2017_8, data_2017_9, data_2017_10, data_2017_11, data_2017_12 ])"
   ]
  },
  {
   "cell_type": "code",
   "execution_count": 24,
   "metadata": {},
   "outputs": [
    {
     "data": {
      "text/plain": [
       "(294928, 30)"
      ]
     },
     "execution_count": 24,
     "metadata": {},
     "output_type": "execute_result"
    }
   ],
   "source": [
    "final_df_td_2017.shape"
   ]
  },
  {
   "cell_type": "code",
   "execution_count": 31,
   "metadata": {},
   "outputs": [
    {
     "data": {
      "text/plain": [
       "Index(['tripduration', 'starttime', 'stoptime', 'start station id',\n",
       "       'start station name', 'start station latitude',\n",
       "       'start station longitude', 'end station id', 'end station name',\n",
       "       'end station latitude', 'end station longitude', 'bikeid', 'usertype',\n",
       "       'birth year', 'gender'],\n",
       "      dtype='object')"
      ]
     },
     "execution_count": 31,
     "metadata": {},
     "output_type": "execute_result"
    }
   ],
   "source": [
    "final_df_td_2018.columns"
   ]
  },
  {
   "cell_type": "code",
   "execution_count": 37,
   "metadata": {
    "scrolled": true
   },
   "outputs": [],
   "source": [
    "final_df_td_2017.columns = map(str.lower, final_df_td_2017.columns)"
   ]
  },
  {
   "cell_type": "code",
   "execution_count": 39,
   "metadata": {},
   "outputs": [
    {
     "data": {
      "text/plain": [
       "Index(['trip duration', 'start time', 'stop time', 'start station id',\n",
       "       'start station name', 'start station latitude',\n",
       "       'start station longitude', 'end station id', 'end station name',\n",
       "       'end station latitude', 'end station longitude', 'bike id', 'user type',\n",
       "       'birth year', 'gender', 'tripduration', 'starttime', 'stoptime',\n",
       "       'start station id', 'start station name', 'start station latitude',\n",
       "       'start station longitude', 'end station id', 'end station name',\n",
       "       'end station latitude', 'end station longitude', 'bikeid', 'usertype',\n",
       "       'birth year', 'gender'],\n",
       "      dtype='object')"
      ]
     },
     "execution_count": 39,
     "metadata": {},
     "output_type": "execute_result"
    }
   ],
   "source": [
    "final_df_td_2017.columns"
   ]
  },
  {
   "cell_type": "code",
   "execution_count": 34,
   "metadata": {},
   "outputs": [],
   "source": [
    "merged_df = pd.concat([final_df_td_2017, final_df_td_2018])"
   ]
  },
  {
   "cell_type": "code",
   "execution_count": 36,
   "metadata": {},
   "outputs": [
    {
     "data": {
      "text/html": [
       "<div>\n",
       "<style scoped>\n",
       "    .dataframe tbody tr th:only-of-type {\n",
       "        vertical-align: middle;\n",
       "    }\n",
       "\n",
       "    .dataframe tbody tr th {\n",
       "        vertical-align: top;\n",
       "    }\n",
       "\n",
       "    .dataframe thead th {\n",
       "        text-align: right;\n",
       "    }\n",
       "</style>\n",
       "<table border=\"1\" class=\"dataframe\">\n",
       "  <thead>\n",
       "    <tr style=\"text-align: right;\">\n",
       "      <th></th>\n",
       "      <th>Trip Duration</th>\n",
       "      <th>Start Time</th>\n",
       "      <th>Stop Time</th>\n",
       "      <th>Start Station ID</th>\n",
       "      <th>Start Station Name</th>\n",
       "      <th>Start Station Latitude</th>\n",
       "      <th>Start Station Longitude</th>\n",
       "      <th>End Station ID</th>\n",
       "      <th>End Station Name</th>\n",
       "      <th>End Station Latitude</th>\n",
       "      <th>...</th>\n",
       "      <th>start station latitude</th>\n",
       "      <th>start station longitude</th>\n",
       "      <th>end station id</th>\n",
       "      <th>end station name</th>\n",
       "      <th>end station latitude</th>\n",
       "      <th>end station longitude</th>\n",
       "      <th>bikeid</th>\n",
       "      <th>usertype</th>\n",
       "      <th>birth year</th>\n",
       "      <th>gender</th>\n",
       "    </tr>\n",
       "  </thead>\n",
       "  <tbody>\n",
       "    <tr>\n",
       "      <th>0</th>\n",
       "      <td>148.0</td>\n",
       "      <td>2017-01-01 00:21:32</td>\n",
       "      <td>2017-01-01 00:24:01</td>\n",
       "      <td>3276.0</td>\n",
       "      <td>Marin Light Rail</td>\n",
       "      <td>40.714584</td>\n",
       "      <td>-74.042817</td>\n",
       "      <td>3185.0</td>\n",
       "      <td>City Hall</td>\n",
       "      <td>40.717733</td>\n",
       "      <td>...</td>\n",
       "      <td>NaN</td>\n",
       "      <td>NaN</td>\n",
       "      <td>NaN</td>\n",
       "      <td>NaN</td>\n",
       "      <td>NaN</td>\n",
       "      <td>NaN</td>\n",
       "      <td>NaN</td>\n",
       "      <td>NaN</td>\n",
       "      <td>NaN</td>\n",
       "      <td>NaN</td>\n",
       "    </tr>\n",
       "    <tr>\n",
       "      <th>1</th>\n",
       "      <td>1283.0</td>\n",
       "      <td>2017-01-01 00:24:35</td>\n",
       "      <td>2017-01-01 00:45:58</td>\n",
       "      <td>3183.0</td>\n",
       "      <td>Exchange Place</td>\n",
       "      <td>40.716247</td>\n",
       "      <td>-74.033459</td>\n",
       "      <td>3198.0</td>\n",
       "      <td>Heights Elevator</td>\n",
       "      <td>40.748716</td>\n",
       "      <td>...</td>\n",
       "      <td>NaN</td>\n",
       "      <td>NaN</td>\n",
       "      <td>NaN</td>\n",
       "      <td>NaN</td>\n",
       "      <td>NaN</td>\n",
       "      <td>NaN</td>\n",
       "      <td>NaN</td>\n",
       "      <td>NaN</td>\n",
       "      <td>NaN</td>\n",
       "      <td>NaN</td>\n",
       "    </tr>\n",
       "    <tr>\n",
       "      <th>2</th>\n",
       "      <td>372.0</td>\n",
       "      <td>2017-01-01 00:38:19</td>\n",
       "      <td>2017-01-01 00:44:31</td>\n",
       "      <td>3183.0</td>\n",
       "      <td>Exchange Place</td>\n",
       "      <td>40.716247</td>\n",
       "      <td>-74.033459</td>\n",
       "      <td>3211.0</td>\n",
       "      <td>Newark Ave</td>\n",
       "      <td>40.721525</td>\n",
       "      <td>...</td>\n",
       "      <td>NaN</td>\n",
       "      <td>NaN</td>\n",
       "      <td>NaN</td>\n",
       "      <td>NaN</td>\n",
       "      <td>NaN</td>\n",
       "      <td>NaN</td>\n",
       "      <td>NaN</td>\n",
       "      <td>NaN</td>\n",
       "      <td>NaN</td>\n",
       "      <td>NaN</td>\n",
       "    </tr>\n",
       "    <tr>\n",
       "      <th>3</th>\n",
       "      <td>1513.0</td>\n",
       "      <td>2017-01-01 00:38:37</td>\n",
       "      <td>2017-01-01 01:03:50</td>\n",
       "      <td>3194.0</td>\n",
       "      <td>McGinley Square</td>\n",
       "      <td>40.725340</td>\n",
       "      <td>-74.067622</td>\n",
       "      <td>3271.0</td>\n",
       "      <td>Danforth Light Rail</td>\n",
       "      <td>40.692640</td>\n",
       "      <td>...</td>\n",
       "      <td>NaN</td>\n",
       "      <td>NaN</td>\n",
       "      <td>NaN</td>\n",
       "      <td>NaN</td>\n",
       "      <td>NaN</td>\n",
       "      <td>NaN</td>\n",
       "      <td>NaN</td>\n",
       "      <td>NaN</td>\n",
       "      <td>NaN</td>\n",
       "      <td>NaN</td>\n",
       "    </tr>\n",
       "    <tr>\n",
       "      <th>4</th>\n",
       "      <td>639.0</td>\n",
       "      <td>2017-01-01 01:47:52</td>\n",
       "      <td>2017-01-01 01:58:31</td>\n",
       "      <td>3183.0</td>\n",
       "      <td>Exchange Place</td>\n",
       "      <td>40.716247</td>\n",
       "      <td>-74.033459</td>\n",
       "      <td>3203.0</td>\n",
       "      <td>Hamilton Park</td>\n",
       "      <td>40.727596</td>\n",
       "      <td>...</td>\n",
       "      <td>NaN</td>\n",
       "      <td>NaN</td>\n",
       "      <td>NaN</td>\n",
       "      <td>NaN</td>\n",
       "      <td>NaN</td>\n",
       "      <td>NaN</td>\n",
       "      <td>NaN</td>\n",
       "      <td>NaN</td>\n",
       "      <td>NaN</td>\n",
       "      <td>NaN</td>\n",
       "    </tr>\n",
       "  </tbody>\n",
       "</table>\n",
       "<p>5 rows × 30 columns</p>\n",
       "</div>"
      ],
      "text/plain": [
       "   Trip Duration           Start Time            Stop Time  Start Station ID  \\\n",
       "0          148.0  2017-01-01 00:21:32  2017-01-01 00:24:01            3276.0   \n",
       "1         1283.0  2017-01-01 00:24:35  2017-01-01 00:45:58            3183.0   \n",
       "2          372.0  2017-01-01 00:38:19  2017-01-01 00:44:31            3183.0   \n",
       "3         1513.0  2017-01-01 00:38:37  2017-01-01 01:03:50            3194.0   \n",
       "4          639.0  2017-01-01 01:47:52  2017-01-01 01:58:31            3183.0   \n",
       "\n",
       "  Start Station Name  Start Station Latitude  Start Station Longitude  \\\n",
       "0   Marin Light Rail               40.714584               -74.042817   \n",
       "1     Exchange Place               40.716247               -74.033459   \n",
       "2     Exchange Place               40.716247               -74.033459   \n",
       "3    McGinley Square               40.725340               -74.067622   \n",
       "4     Exchange Place               40.716247               -74.033459   \n",
       "\n",
       "   End Station ID     End Station Name  End Station Latitude  ...  \\\n",
       "0          3185.0            City Hall             40.717733  ...   \n",
       "1          3198.0     Heights Elevator             40.748716  ...   \n",
       "2          3211.0           Newark Ave             40.721525  ...   \n",
       "3          3271.0  Danforth Light Rail             40.692640  ...   \n",
       "4          3203.0        Hamilton Park             40.727596  ...   \n",
       "\n",
       "   start station latitude  start station longitude end station id  \\\n",
       "0                     NaN                      NaN            NaN   \n",
       "1                     NaN                      NaN            NaN   \n",
       "2                     NaN                      NaN            NaN   \n",
       "3                     NaN                      NaN            NaN   \n",
       "4                     NaN                      NaN            NaN   \n",
       "\n",
       "   end station name  end station latitude  end station longitude bikeid  \\\n",
       "0               NaN                   NaN                    NaN    NaN   \n",
       "1               NaN                   NaN                    NaN    NaN   \n",
       "2               NaN                   NaN                    NaN    NaN   \n",
       "3               NaN                   NaN                    NaN    NaN   \n",
       "4               NaN                   NaN                    NaN    NaN   \n",
       "\n",
       "  usertype  birth year gender  \n",
       "0      NaN         NaN    NaN  \n",
       "1      NaN         NaN    NaN  \n",
       "2      NaN         NaN    NaN  \n",
       "3      NaN         NaN    NaN  \n",
       "4      NaN         NaN    NaN  \n",
       "\n",
       "[5 rows x 30 columns]"
      ]
     },
     "execution_count": 36,
     "metadata": {},
     "output_type": "execute_result"
    }
   ],
   "source": [
    "merged_df.head()"
   ]
  },
  {
   "cell_type": "markdown",
   "metadata": {},
   "source": [
    "### Daily Ridership and Membership Data"
   ]
  },
  {
   "cell_type": "code",
   "execution_count": 8,
   "metadata": {},
   "outputs": [],
   "source": [
    "membership_data1 = pd.read_csv(\"Resources/data-7OLX8.csv\")\n",
    "membership_data2 = pd.read_csv(\"Resources/data-tqNn6.csv\")\n",
    "membership_data3 = pd.read_csv(\"Resources/data-FKjZg.csv\")\n",
    "membership_data4 = pd.read_csv(\"Resources/data-pRAtm.csv\")"
   ]
  },
  {
   "cell_type": "code",
   "execution_count": 10,
   "metadata": {},
   "outputs": [
    {
     "data": {
      "text/plain": [
       "(90, 6)"
      ]
     },
     "execution_count": 10,
     "metadata": {},
     "output_type": "execute_result"
    }
   ],
   "source": [
    "membership_data1.shape"
   ]
  },
  {
   "cell_type": "code",
   "execution_count": 11,
   "metadata": {},
   "outputs": [
    {
     "name": "stdout",
     "output_type": "stream",
     "text": [
      "<class 'pandas.core.frame.DataFrame'>\n",
      "RangeIndex: 90 entries, 0 to 89\n",
      "Data columns (total 6 columns):\n",
      " #   Column                                              Non-Null Count  Dtype \n",
      "---  ------                                              --------------  ----- \n",
      " 0   Date                                                90 non-null     object\n",
      " 1   Trips over the past 24-hours (midnight to 11:59pm)  90 non-null     int64 \n",
      " 2   Miles traveled today (midnight to 11:59 pm)         90 non-null     int64 \n",
      " 3   Total Annual Members (All Time)                     90 non-null     int64 \n",
      " 4   24-Hour Passes Purchased (midnight to 11:59 pm)     90 non-null     int64 \n",
      " 5   3-Day Passes Purchased (midnight to 11:59 pm)       90 non-null     int64 \n",
      "dtypes: int64(5), object(1)\n",
      "memory usage: 4.3+ KB\n"
     ]
    }
   ],
   "source": [
    "membership_data1.info()"
   ]
  },
  {
   "cell_type": "code",
   "execution_count": 12,
   "metadata": {},
   "outputs": [],
   "source": [
    "final_membership_df = pd.concat([membership_data1, membership_data2, membership_data3, membership_data4])"
   ]
  },
  {
   "cell_type": "code",
   "execution_count": 16,
   "metadata": {},
   "outputs": [
    {
     "data": {
      "text/html": [
       "<div>\n",
       "<style scoped>\n",
       "    .dataframe tbody tr th:only-of-type {\n",
       "        vertical-align: middle;\n",
       "    }\n",
       "\n",
       "    .dataframe tbody tr th {\n",
       "        vertical-align: top;\n",
       "    }\n",
       "\n",
       "    .dataframe thead th {\n",
       "        text-align: right;\n",
       "    }\n",
       "</style>\n",
       "<table border=\"1\" class=\"dataframe\">\n",
       "  <thead>\n",
       "    <tr style=\"text-align: right;\">\n",
       "      <th></th>\n",
       "      <th>Date</th>\n",
       "      <th>Trips over the past 24-hours (midnight to 11:59pm)</th>\n",
       "      <th>Miles traveled today (midnight to 11:59 pm)</th>\n",
       "      <th>Total Annual Members (All Time)</th>\n",
       "      <th>24-Hour Passes Purchased (midnight to 11:59 pm)</th>\n",
       "      <th>3-Day Passes Purchased (midnight to 11:59 pm)</th>\n",
       "    </tr>\n",
       "  </thead>\n",
       "  <tbody>\n",
       "    <tr>\n",
       "      <th>0</th>\n",
       "      <td>1/1/2018</td>\n",
       "      <td>5499</td>\n",
       "      <td>11483</td>\n",
       "      <td>253490</td>\n",
       "      <td>123</td>\n",
       "      <td>7</td>\n",
       "    </tr>\n",
       "    <tr>\n",
       "      <th>1</th>\n",
       "      <td>1/2/2018</td>\n",
       "      <td>18818</td>\n",
       "      <td>39352</td>\n",
       "      <td>253558</td>\n",
       "      <td>125</td>\n",
       "      <td>12</td>\n",
       "    </tr>\n",
       "    <tr>\n",
       "      <th>2</th>\n",
       "      <td>1/3/2018</td>\n",
       "      <td>24299</td>\n",
       "      <td>42853</td>\n",
       "      <td>253591</td>\n",
       "      <td>164</td>\n",
       "      <td>4</td>\n",
       "    </tr>\n",
       "    <tr>\n",
       "      <th>3</th>\n",
       "      <td>1/4/2018</td>\n",
       "      <td>1922</td>\n",
       "      <td>5328</td>\n",
       "      <td>253604</td>\n",
       "      <td>2</td>\n",
       "      <td>1</td>\n",
       "    </tr>\n",
       "    <tr>\n",
       "      <th>4</th>\n",
       "      <td>1/5/2018</td>\n",
       "      <td>4972</td>\n",
       "      <td>14303</td>\n",
       "      <td>253614</td>\n",
       "      <td>14</td>\n",
       "      <td>0</td>\n",
       "    </tr>\n",
       "    <tr>\n",
       "      <th>...</th>\n",
       "      <td>...</td>\n",
       "      <td>...</td>\n",
       "      <td>...</td>\n",
       "      <td>...</td>\n",
       "      <td>...</td>\n",
       "      <td>...</td>\n",
       "    </tr>\n",
       "    <tr>\n",
       "      <th>87</th>\n",
       "      <td>12/27/18</td>\n",
       "      <td>31169</td>\n",
       "      <td>48943</td>\n",
       "      <td>297527</td>\n",
       "      <td>1510</td>\n",
       "      <td>51</td>\n",
       "    </tr>\n",
       "    <tr>\n",
       "      <th>88</th>\n",
       "      <td>12/28/18</td>\n",
       "      <td>12039</td>\n",
       "      <td>17576</td>\n",
       "      <td>297555</td>\n",
       "      <td>334</td>\n",
       "      <td>25</td>\n",
       "    </tr>\n",
       "    <tr>\n",
       "      <th>89</th>\n",
       "      <td>12/29/18</td>\n",
       "      <td>29037</td>\n",
       "      <td>54116</td>\n",
       "      <td>297622</td>\n",
       "      <td>2677</td>\n",
       "      <td>104</td>\n",
       "    </tr>\n",
       "    <tr>\n",
       "      <th>90</th>\n",
       "      <td>12/30/18</td>\n",
       "      <td>22536</td>\n",
       "      <td>37741</td>\n",
       "      <td>297682</td>\n",
       "      <td>1562</td>\n",
       "      <td>51</td>\n",
       "    </tr>\n",
       "    <tr>\n",
       "      <th>91</th>\n",
       "      <td>12/31/18</td>\n",
       "      <td>18936</td>\n",
       "      <td>29794</td>\n",
       "      <td>297748</td>\n",
       "      <td>962</td>\n",
       "      <td>31</td>\n",
       "    </tr>\n",
       "  </tbody>\n",
       "</table>\n",
       "<p>365 rows × 6 columns</p>\n",
       "</div>"
      ],
      "text/plain": [
       "        Date  Trips over the past 24-hours (midnight to 11:59pm)  \\\n",
       "0   1/1/2018                                               5499    \n",
       "1   1/2/2018                                              18818    \n",
       "2   1/3/2018                                              24299    \n",
       "3   1/4/2018                                               1922    \n",
       "4   1/5/2018                                               4972    \n",
       "..       ...                                                ...    \n",
       "87  12/27/18                                              31169    \n",
       "88  12/28/18                                              12039    \n",
       "89  12/29/18                                              29037    \n",
       "90  12/30/18                                              22536    \n",
       "91  12/31/18                                              18936    \n",
       "\n",
       "    Miles traveled today (midnight to 11:59 pm)  \\\n",
       "0                                         11483   \n",
       "1                                         39352   \n",
       "2                                         42853   \n",
       "3                                          5328   \n",
       "4                                         14303   \n",
       "..                                          ...   \n",
       "87                                        48943   \n",
       "88                                        17576   \n",
       "89                                        54116   \n",
       "90                                        37741   \n",
       "91                                        29794   \n",
       "\n",
       "    Total Annual Members (All Time)  \\\n",
       "0                            253490   \n",
       "1                            253558   \n",
       "2                            253591   \n",
       "3                            253604   \n",
       "4                            253614   \n",
       "..                              ...   \n",
       "87                           297527   \n",
       "88                           297555   \n",
       "89                           297622   \n",
       "90                           297682   \n",
       "91                           297748   \n",
       "\n",
       "    24-Hour Passes Purchased (midnight to 11:59 pm)  \\\n",
       "0                                               123   \n",
       "1                                               125   \n",
       "2                                               164   \n",
       "3                                                 2   \n",
       "4                                                14   \n",
       "..                                              ...   \n",
       "87                                             1510   \n",
       "88                                              334   \n",
       "89                                             2677   \n",
       "90                                             1562   \n",
       "91                                              962   \n",
       "\n",
       "    3-Day Passes Purchased (midnight to 11:59 pm)  \n",
       "0                                               7  \n",
       "1                                              12  \n",
       "2                                               4  \n",
       "3                                               1  \n",
       "4                                               0  \n",
       "..                                            ...  \n",
       "87                                             51  \n",
       "88                                             25  \n",
       "89                                            104  \n",
       "90                                             51  \n",
       "91                                             31  \n",
       "\n",
       "[365 rows x 6 columns]"
      ]
     },
     "execution_count": 16,
     "metadata": {},
     "output_type": "execute_result"
    }
   ],
   "source": [
    "final_membership_df"
   ]
  },
  {
   "cell_type": "code",
   "execution_count": 13,
   "metadata": {},
   "outputs": [],
   "source": [
    "final_membership_df.to_csv(\"membership_data.csv\")"
   ]
  }
 ],
 "metadata": {
  "kernelspec": {
   "display_name": "Python 3",
   "language": "python",
   "name": "python3"
  },
  "language_info": {
   "codemirror_mode": {
    "name": "ipython",
    "version": 3
   },
   "file_extension": ".py",
   "mimetype": "text/x-python",
   "name": "python",
   "nbconvert_exporter": "python",
   "pygments_lexer": "ipython3",
   "version": "3.7.6"
  }
 },
 "nbformat": 4,
 "nbformat_minor": 4
}
